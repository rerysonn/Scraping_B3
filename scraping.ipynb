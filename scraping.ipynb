{
 "cells": [
  {
   "cell_type": "code",
   "execution_count": 271,
   "metadata": {},
   "outputs": [],
   "source": [
    "import pandas as pd\n",
    "import time\n",
    "import os\n",
    "import boto3"
   ]
  },
  {
   "cell_type": "code",
   "execution_count": 272,
   "metadata": {},
   "outputs": [],
   "source": [
    "from selenium import webdriver\n",
    "from selenium.webdriver.chrome.service import Service\n",
    "from selenium.webdriver.common.by import By\n",
    "from datetime import datetime"
   ]
  },
  {
   "cell_type": "code",
   "execution_count": 273,
   "metadata": {},
   "outputs": [],
   "source": [
    "service = Service()\n",
    "\n",
    "options = webdriver.ChromeOptions()\n",
    "\n",
    "driver = webdriver.Chrome(service=service, options=options)"
   ]
  },
  {
   "cell_type": "code",
   "execution_count": 274,
   "metadata": {},
   "outputs": [],
   "source": [
    "url = 'https://sistemaswebb3-listados.b3.com.br/indexPage/day/IBOV?language=pt-br'\n",
    "\n",
    "driver.get(url)\n"
   ]
  },
  {
   "cell_type": "code",
   "execution_count": 275,
   "metadata": {},
   "outputs": [],
   "source": [
    "download_link = driver.find_element(By.XPATH, \"//a[contains(text(), 'Download')]\")\n",
    "download_link.click()"
   ]
  },
  {
   "cell_type": "code",
   "execution_count": 276,
   "metadata": {},
   "outputs": [],
   "source": [
    "time.sleep(2)"
   ]
  },
  {
   "cell_type": "code",
   "execution_count": 277,
   "metadata": {},
   "outputs": [],
   "source": [
    "current_date = datetime.now().strftime('%d-%m-%y')\n",
    "download_folder = 'C:/Users/rerys/Downloads'"
   ]
  },
  {
   "cell_type": "code",
   "execution_count": 278,
   "metadata": {},
   "outputs": [],
   "source": [
    "files_in_download_folder = os.listdir(download_folder)"
   ]
  },
  {
   "cell_type": "code",
   "execution_count": 279,
   "metadata": {},
   "outputs": [],
   "source": [
    "download_filename = f'IBOVDia_{current_date}.csv'\n",
    "download_path = os.path.join(download_folder, download_filename)"
   ]
  },
  {
   "cell_type": "code",
   "execution_count": null,
   "metadata": {},
   "outputs": [],
   "source": [
    "if not os.path.exists(download_path):\n",
    "    print(f\"Erro: o arquivo {download_filename} não foi encontrado na pasta de downloads.\")\n",
    "else:\n",
    "    # Lê o CSV\n",
    "    df = pd.read_csv(download_path, encoding='latin1', sep=';', header=None, skiprows=2, on_bad_lines='skip')\n",
    "    df = df.dropna(axis=1, how='all')\n",
    "\n",
    "    # Adiciona as colunas de cabeçalho\n",
    "    df.columns = ['Codigo', 'Acao', 'Tipo', 'Qtde. Teorica', 'Part.']\n",
    "\n",
    "    # Adiciona uma coluna de data no formato americano\n",
    "    current_date_american = datetime.now().strftime('%Y-%m-%d')\n",
    "    df['Data'] = current_date_american\n",
    "\n",
    "    year = datetime.now().strftime('%Y')\n",
    "    month = datetime.now().strftime('%m')\n",
    "    day = datetime.now().strftime('%d')\n",
    "\n",
    "    parquet_dir = f'D:/Dev/Scraping_b3/Parquet/{year}/{month}/{day}'\n",
    "    os.makedirs(parquet_dir, exist_ok=True)\n",
    "\n",
    "    # Define o caminho para salvar o arquivo Parquet com nome baseado na data do download\n",
    "    parquet_output_path = os.path.join(parquet_dir, f'ibovespa_{current_date_american}.parquet')\n",
    "\n",
    "    # Salva o DataFrame em formato Parquet\n",
    "    df.to_parquet(parquet_output_path, index=False)\n",
    "\n",
    "    # Lê o arquivo Parquet salvo para verificar\n",
    "    df_loaded = pd.read_parquet(parquet_output_path)\n",
    "    pd.set_option('display.max_rows', None)\n",
    "    pd.set_option('display.max_columns', None)\n",
    "\n",
    "    print(df_loaded)"
   ]
  },
  {
   "cell_type": "code",
   "execution_count": 291,
   "metadata": {},
   "outputs": [],
   "source": [
    "s3_client = boto3.client('s3', region_name='us-east-1')\n",
    "bucket_name = 'fiap2024-mlet-reryson'"
   ]
  },
  {
   "cell_type": "code",
   "execution_count": 292,
   "metadata": {},
   "outputs": [],
   "source": [
    "s3_parquet_path = f'Parquet/{year}/{month}/{day}/ibovespa_{current_date_american}.parquet'"
   ]
  },
  {
   "cell_type": "code",
   "execution_count": 293,
   "metadata": {},
   "outputs": [
    {
     "name": "stdout",
     "output_type": "stream",
     "text": [
      "Arquivo Parquet enviado para o S3: Parquet/2024/07/12/ibovespa_2024-07-12.parquet\n"
     ]
    }
   ],
   "source": [
    "s3_client.upload_file(parquet_output_path, bucket_name, s3_parquet_path)\n",
    "print(f\"Arquivo Parquet enviado para o S3: {s3_parquet_path}\")"
   ]
  },
  {
   "cell_type": "code",
   "execution_count": null,
   "metadata": {},
   "outputs": [],
   "source": [
    "driver.quit()"
   ]
  }
 ],
 "metadata": {
  "kernelspec": {
   "display_name": ".venv",
   "language": "python",
   "name": "python3"
  },
  "language_info": {
   "codemirror_mode": {
    "name": "ipython",
    "version": 3
   },
   "file_extension": ".py",
   "mimetype": "text/x-python",
   "name": "python",
   "nbconvert_exporter": "python",
   "pygments_lexer": "ipython3",
   "version": "3.12.2"
  }
 },
 "nbformat": 4,
 "nbformat_minor": 2
}
