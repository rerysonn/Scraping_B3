{
 "cells": [
  {
   "cell_type": "code",
   "execution_count": 2,
   "metadata": {},
   "outputs": [],
   "source": [
    "import pandas as pd\n",
    "import time\n"
   ]
  },
  {
   "cell_type": "code",
   "execution_count": 3,
   "metadata": {},
   "outputs": [],
   "source": [
    "from selenium import webdriver\n",
    "from selenium.webdriver.chrome.service import Service\n",
    "from selenium.webdriver.common.by import By\n",
    "from datetime import datetime"
   ]
  },
  {
   "cell_type": "code",
   "execution_count": 4,
   "metadata": {},
   "outputs": [],
   "source": [
    "service = Service()\n",
    "\n",
    "options = webdriver.ChromeOptions()\n",
    "\n",
    "driver = webdriver.Chrome(service=service, options=options)"
   ]
  },
  {
   "cell_type": "code",
   "execution_count": 5,
   "metadata": {},
   "outputs": [],
   "source": [
    "url = 'https://sistemaswebb3-listados.b3.com.br/indexPage/day/IBOV?language=pt-br'\n",
    "\n",
    "driver.get(url)\n"
   ]
  },
  {
   "cell_type": "code",
   "execution_count": 6,
   "metadata": {},
   "outputs": [],
   "source": [
    "download_link = driver.find_element(By.XPATH, \"//a[contains(text(), 'Download')]\")\n",
    "download_link.click()"
   ]
  },
  {
   "cell_type": "code",
   "execution_count": 7,
   "metadata": {},
   "outputs": [],
   "source": [
    "time.sleep(2)"
   ]
  },
  {
   "cell_type": "code",
   "execution_count": 8,
   "metadata": {},
   "outputs": [
    {
     "name": "stdout",
     "output_type": "stream",
     "text": [
      "Arquivo baixado: C:/Users/rerys/Downloads/IBOVDia_10-07-24.csv\n"
     ]
    }
   ],
   "source": [
    "download_path = 'C:/Users/rerys/Downloads/IBOVDia_10-07-24.csv'\n",
    "print(f\"Arquivo baixado: {download_path}\")"
   ]
  },
  {
   "cell_type": "code",
   "execution_count": 15,
   "metadata": {},
   "outputs": [],
   "source": [
    "df = pd.read_csv(download_path, encoding='latin1', sep=';', header=2, on_bad_lines='skip')\n",
    "df = df.dropna(axis=1, how='all')\n",
    "\n",
    "\n"
   ]
  },
  {
   "cell_type": "code",
   "execution_count": 16,
   "metadata": {},
   "outputs": [],
   "source": [
    "current_date = datetime.now().strftime('%Y-%m-%d')\n",
    "df.insert(len(df.columns), '', current_date)"
   ]
  },
  {
   "cell_type": "code",
   "execution_count": 17,
   "metadata": {},
   "outputs": [
    {
     "name": "stdout",
     "output_type": "stream",
     "text": [
      "   RRRP3 3R PETROLEUM  ON      NM    238.441.689  0,321            \n",
      "0  ALOS3        ALLOS  ON      NM    532.616.595  0,564  2024-07-10\n",
      "1  ALPA4   ALPARGATAS  PN      N1    166.362.038  0,076  2024-07-10\n",
      "2  ABEV3    AMBEV S/A          ON  4.394.245.879  2,367  2024-07-10\n",
      "3  ARZZ3    AREZZO CO  ON      NM     62.305.891  0,161  2024-07-10\n",
      "4  ASAI3        ASSAI  ON      NM  1.349.217.892  0,742  2024-07-10\n"
     ]
    }
   ],
   "source": [
    "df.columns = df.columns.str.strip()\n",
    "print(df.head())"
   ]
  },
  {
   "cell_type": "markdown",
   "metadata": {},
   "source": []
  }
 ],
 "metadata": {
  "kernelspec": {
   "display_name": ".venv",
   "language": "python",
   "name": "python3"
  },
  "language_info": {
   "codemirror_mode": {
    "name": "ipython",
    "version": 3
   },
   "file_extension": ".py",
   "mimetype": "text/x-python",
   "name": "python",
   "nbconvert_exporter": "python",
   "pygments_lexer": "ipython3",
   "version": "3.12.2"
  }
 },
 "nbformat": 4,
 "nbformat_minor": 2
}
