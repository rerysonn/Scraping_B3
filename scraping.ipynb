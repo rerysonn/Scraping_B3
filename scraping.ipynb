{
 "cells": [
  {
   "cell_type": "code",
   "execution_count": 13,
   "metadata": {},
   "outputs": [],
   "source": [
    "import pandas as pd\n",
    "import time\n",
    "import os\n",
    "import boto3"
   ]
  },
  {
   "cell_type": "code",
   "execution_count": 14,
   "metadata": {},
   "outputs": [],
   "source": [
    "from selenium import webdriver\n",
    "from selenium.webdriver.chrome.service import Service\n",
    "from selenium.webdriver.common.by import By\n",
    "from datetime import datetime"
   ]
  },
  {
   "cell_type": "code",
   "execution_count": 15,
   "metadata": {},
   "outputs": [],
   "source": [
    "service = Service()\n",
    "\n",
    "options = webdriver.ChromeOptions()\n",
    "\n",
    "driver = webdriver.Chrome(service=service, options=options)"
   ]
  },
  {
   "cell_type": "code",
   "execution_count": 16,
   "metadata": {},
   "outputs": [],
   "source": [
    "url = 'https://sistemaswebb3-listados.b3.com.br/indexPage/day/IBOV?language=pt-br'\n",
    "\n",
    "driver.get(url)\n"
   ]
  },
  {
   "cell_type": "code",
   "execution_count": 17,
   "metadata": {},
   "outputs": [],
   "source": [
    "download_link = driver.find_element(By.XPATH, \"//a[contains(text(), 'Download')]\")\n",
    "download_link.click()"
   ]
  },
  {
   "cell_type": "code",
   "execution_count": 18,
   "metadata": {},
   "outputs": [],
   "source": [
    "time.sleep(2)"
   ]
  },
  {
   "cell_type": "code",
   "execution_count": 19,
   "metadata": {},
   "outputs": [],
   "source": [
    "current_date = datetime.now().strftime('%d-%m-%y')\n",
    "download_folder = 'C:/Users/rerys/Downloads'"
   ]
  },
  {
   "cell_type": "code",
   "execution_count": 20,
   "metadata": {},
   "outputs": [],
   "source": [
    "files_in_download_folder = os.listdir(download_folder)"
   ]
  },
  {
   "cell_type": "code",
   "execution_count": 21,
   "metadata": {},
   "outputs": [],
   "source": [
    "download_filename = f'IBOVDia_{current_date}.csv'\n",
    "download_path = os.path.join(download_folder, download_filename)"
   ]
  },
  {
   "cell_type": "code",
   "execution_count": 22,
   "metadata": {},
   "outputs": [
    {
     "name": "stdout",
     "output_type": "stream",
     "text": [
      "                      Codigo          Acao        Tipo        Qtde. Teorica  \\\n",
      "0                      RRRP3  3R PETROLEUM  ON      NM          238.441.689   \n",
      "1                      ALOS3         ALLOS  ON      NM          532.616.595   \n",
      "2                      ALPA4    ALPARGATAS  PN      N1          166.362.038   \n",
      "3                      ABEV3     AMBEV S/A     ON  ATZ        4.394.245.879   \n",
      "4                      ARZZ3     AREZZO CO  ON  ED  NM           62.305.891   \n",
      "5                      ASAI3         ASSAI  ON      NM        1.349.217.892   \n",
      "6                      AZUL4          AZUL  PN      N2          332.825.777   \n",
      "7                      B3SA3            B3  ON      NM        5.602.790.110   \n",
      "8                      BBSE3  BBSEGURIDADE  ON      NM          671.750.768   \n",
      "9                      BBDC3      BRADESCO  ON      N1        1.489.259.656   \n",
      "10                     BBDC4      BRADESCO  PN      N1        5.135.772.281   \n",
      "11                     BRAP4     BRADESPAR  PN      N1          250.992.819   \n",
      "12                     BBAS3        BRASIL  ON      NM        2.842.247.534   \n",
      "13                     BRKM5       BRASKEM  PNA     N1          265.877.867   \n",
      "14                     BRFS3        BRF SA  ON      NM          835.221.269   \n",
      "15                    BPAC11    BTGP BANCO  UNT EJ  N2        1.150.645.866   \n",
      "16                     CRFB3  CARREFOUR BR  ON      NM          533.990.587   \n",
      "17                     CCRO3        CCR SA  ON      NM          995.335.937   \n",
      "18                     CMIG4         CEMIG  PN      N1        1.868.640.510   \n",
      "19                     CIEL3         CIELO  ON      NM        1.095.462.329   \n",
      "20                     COGN3      COGNA ON  ON      NM        1.814.903.540   \n",
      "21                     CPLE6         COPEL  PNB     N2        1.679.233.590   \n",
      "22                     CSAN3         COSAN  ON      NM        1.168.966.848   \n",
      "23                     CPFE3  CPFL ENERGIA  ON      NM          187.732.538   \n",
      "24                     CMIN3  CSNMINERACAO  ON      N2        1.110.559.345   \n",
      "25                     CVCB3    CVC BRASIL  ON      NM          525.582.771   \n",
      "26                     CYRE3  CYRELA REALT  ON      NM          265.784.616   \n",
      "27                     DXCO3         DEXCO  ON      NM          302.768.240   \n",
      "28                     ELET3    ELETROBRAS  ON      N1        1.945.040.784   \n",
      "29                     ELET6    ELETROBRAS  PNB     N1          268.733.136   \n",
      "30                     EMBR3       EMBRAER  ON      NM          734.632.601   \n",
      "31                    ENGI11      ENERGISA  UNT     N2          326.265.871   \n",
      "32                     ENEV3         ENEVA  ON      NM        1.579.630.820   \n",
      "33                     EGIE3  ENGIE BRASIL  ON      NM          255.236.961   \n",
      "34                     EQTL3    EQUATORIAL  ON      NM        1.155.467.134   \n",
      "35                     EZTC3         EZTEC  ON      NM           91.514.307   \n",
      "36                     FLRY3        FLEURY  ON      NM          240.822.651   \n",
      "37                     GGBR4        GERDAU  PN      N1        1.246.339.197   \n",
      "38                     GOAU4    GERDAU MET  PN      N1          660.411.219   \n",
      "39                     NTCO3  GRUPO NATURA  ON      NM          849.346.756   \n",
      "40                     SOMA3    GRUPO SOMA  ON      NM          496.029.967   \n",
      "41                     HAPV3       HAPVIDA  ON      NM        4.394.332.306   \n",
      "42                     HYPE3        HYPERA  ON      NM          409.490.388   \n",
      "43                    IGTI11  IGUATEMI S.A  UNT     N1          217.622.138   \n",
      "44                     IRBR3  IRBBRASIL RE  ON      NM           81.838.843   \n",
      "45                     ITSA4        ITAUSA  PN      N1        5.560.910.983   \n",
      "46                     ITUB4  ITAUUNIBANCO  PN      N1        4.740.126.023   \n",
      "47                     JBSS3           JBS  ON      NM        1.134.986.472   \n",
      "48                    KLBN11    KLABIN S/A  UNT     N2          777.422.123   \n",
      "49                     RENT3      LOCALIZA  ON      NM          863.138.188   \n",
      "50                     LREN3  LOJAS RENNER  ON      NM          951.452.770   \n",
      "51                     LWSA3          LWSA  ON      NM          428.737.358   \n",
      "52                     MGLU3   MAGAZ LUIZA  ON      NM          351.757.412   \n",
      "53                     MRFG3       MARFRIG  ON      NM          331.799.687   \n",
      "54                     BEEF3       MINERVA  ON      NM          261.036.182   \n",
      "55                     MRVE3           MRV  ON      NM          375.130.280   \n",
      "56                     MULT3     MULTIPLAN  ON      N2          268.505.432   \n",
      "57                     PCAR3  P.ACUCAR-CBD  ON      NM          379.400.826   \n",
      "58                     PETR3     PETROBRAS  ON      N2        2.150.495.108   \n",
      "59                     PETR4     PETROBRAS  PN      N2        4.566.445.852   \n",
      "60                     RECV3    PETRORECSA  ON      NM          275.166.463   \n",
      "61                     PRIO3      PETRORIO  ON      NM          804.019.521   \n",
      "62                     PETZ3          PETZ  ON      NM          314.729.428   \n",
      "63                     RADL3  RAIADROGASIL  ON  EJ  NM        1.280.079.284   \n",
      "64                     RAIZ4        RAIZEN  PN      N2        1.210.920.604   \n",
      "65                     RDOR3     REDE D OR  ON      NM        1.144.776.793   \n",
      "66                     RAIL3     RUMO S.A.  ON      NM        1.218.352.541   \n",
      "67                     SBSP3        SABESP  ON      NM          340.001.799   \n",
      "68                    SANB11  SANTANDER BR         UNT          342.918.449   \n",
      "69                     SMTO3  SAO MARTINHO  ON      NM          142.348.116   \n",
      "70                     CSNA3  SID NACIONAL          ON          600.865.451   \n",
      "71                     SLCE3  SLC AGRICOLA  ON      NM          194.217.908   \n",
      "72                     SUZB3   SUZANO S.A.  ON      NM          664.114.223   \n",
      "73                    TAEE11         TAESA  UNT     N2          218.568.234   \n",
      "74                     VIVT3  TELEF BRASIL          ON          408.343.528   \n",
      "75                     TIMS3           TIM  ON      NM          807.896.814   \n",
      "76                     TOTS3         TOTVS  ON      NM          514.122.351   \n",
      "77                     TRPL4  TRAN PAULIST  PN      N1          395.801.044   \n",
      "78                     UGPA3      ULTRAPAR  ON      NM        1.087.228.062   \n",
      "79                     USIM5      USIMINAS  PNA     N1          515.117.391   \n",
      "80                     VALE3          VALE  ON      NM        4.427.123.466   \n",
      "81                     VAMO3         VAMOS  ON      NM          498.860.020   \n",
      "82                     VBBR3         VIBRA  ON      NM        1.114.613.709   \n",
      "83                     VIVA3   VIVARA S.A.  ON      NM          125.912.025   \n",
      "84                     WEGE3           WEG  ON      NM        1.482.105.837   \n",
      "85                     YDUQ3    YDUQS PART  ON      NM          289.347.914   \n",
      "86  Quantidade Teórica Total          None        None       95.381.185.532   \n",
      "87                   Redutor          None        None  16.431.231,56745229   \n",
      "\n",
      "      Part.        Data  \n",
      "0     0,311  2024-07-15  \n",
      "1     0,556  2024-07-15  \n",
      "2     0,073  2024-07-15  \n",
      "3     2,415  2024-07-15  \n",
      "4     0,160  2024-07-15  \n",
      "5     0,716  2024-07-15  \n",
      "6     0,139  2024-07-15  \n",
      "7     3,045  2024-07-15  \n",
      "8     1,077  2024-07-15  \n",
      "9     0,813  2024-07-15  \n",
      "10    3,065  2024-07-15  \n",
      "11    0,228  2024-07-15  \n",
      "12    3,600  2024-07-15  \n",
      "13    0,244  2024-07-15  \n",
      "14    0,886  2024-07-15  \n",
      "15    1,767  2024-07-15  \n",
      "16    0,269  2024-07-15  \n",
      "17    0,610  2024-07-15  \n",
      "18    0,942  2024-07-15  \n",
      "19    0,296  2024-07-15  \n",
      "20    0,162  2024-07-15  \n",
      "21    0,811  2024-07-15  \n",
      "22    0,788  2024-07-15  \n",
      "23    0,300  2024-07-15  \n",
      "24    0,287  2024-07-15  \n",
      "25    0,052  2024-07-15  \n",
      "26    0,254  2024-07-15  \n",
      "27    0,103  2024-07-15  \n",
      "28    3,591  2024-07-15  \n",
      "29    0,550  2024-07-15  \n",
      "30    1,396  2024-07-15  \n",
      "31    0,747  2024-07-15  \n",
      "32    0,999  2024-07-15  \n",
      "33    0,562  2024-07-15  \n",
      "34    1,864  2024-07-15  \n",
      "35    0,061  2024-07-15  \n",
      "36    0,177  2024-07-15  \n",
      "37    1,075  2024-07-15  \n",
      "38    0,335  2024-07-15  \n",
      "39    0,640  2024-07-15  \n",
      "40    0,152  2024-07-15  \n",
      "41    0,846  2024-07-15  \n",
      "42    0,570  2024-07-15  \n",
      "43    0,226  2024-07-15  \n",
      "44    0,122  2024-07-15  \n",
      "45    2,680  2024-07-15  \n",
      "46    7,489  2024-07-15  \n",
      "47    1,720  2024-07-15  \n",
      "48    0,769  2024-07-15  \n",
      "49    1,903  2024-07-15  \n",
      "50    0,609  2024-07-15  \n",
      "51    0,093  2024-07-15  \n",
      "52    0,230  2024-07-15  \n",
      "53    0,192  2024-07-15  \n",
      "54    0,084  2024-07-15  \n",
      "55    0,123  2024-07-15  \n",
      "56    0,313  2024-07-15  \n",
      "57    0,060  2024-07-15  \n",
      "58    4,151  2024-07-15  \n",
      "59    8,225  2024-07-15  \n",
      "60    0,273  2024-07-15  \n",
      "61    1,731  2024-07-15  \n",
      "62    0,061  2024-07-15  \n",
      "63    1,557  2024-07-15  \n",
      "64    0,176  2024-07-15  \n",
      "65    1,564  2024-07-15  \n",
      "66    1,311  2024-07-15  \n",
      "67    1,335  2024-07-15  \n",
      "68    0,460  2024-07-15  \n",
      "69    0,218  2024-07-15  \n",
      "70    0,379  2024-07-15  \n",
      "71    0,175  2024-07-15  \n",
      "72    1,640  2024-07-15  \n",
      "73    0,364  2024-07-15  \n",
      "74    0,954  2024-07-15  \n",
      "75    0,647  2024-07-15  \n",
      "76    0,711  2024-07-15  \n",
      "77    0,485  2024-07-15  \n",
      "78    1,165  2024-07-15  \n",
      "79    0,196  2024-07-15  \n",
      "80   13,152  2024-07-15  \n",
      "81    0,216  2024-07-15  \n",
      "82    1,197  2024-07-15  \n",
      "83    0,137  2024-07-15  \n",
      "84    3,211  2024-07-15  \n",
      "85    0,162  2024-07-15  \n",
      "86  100,000  2024-07-15  \n",
      "87     None  2024-07-15  \n"
     ]
    }
   ],
   "source": [
    "if not os.path.exists(download_path):\n",
    "    print(f\"Erro: o arquivo {download_filename} não foi encontrado na pasta de downloads.\")\n",
    "else:\n",
    "    # Lê o CSV\n",
    "    df = pd.read_csv(download_path, encoding='latin1', sep=';', header=None, skiprows=2, on_bad_lines='skip')\n",
    "    df = df.dropna(axis=1, how='all')\n",
    "\n",
    "    # Adiciona as colunas de cabeçalho\n",
    "    df.columns = ['cod', 'acao', 'tipo', 'qtd', 'part.']\n",
    "\n",
    "    # Adiciona uma coluna de data no formato americano\n",
    "    current_date_american = datetime.now().strftime('%Y-%m-%d')\n",
    "    df['data_pregao'] = current_date_american\n",
    "\n",
    "    year = datetime.now().strftime('%Y')\n",
    "    month = datetime.now().strftime('%m')\n",
    "    day = datetime.now().strftime('%d')\n",
    "\n",
    "    parquet_dir = f'D:/Dev/Scraping_b3/Parquet/raw/{year}/{month}/{day}'\n",
    "    os.makedirs(parquet_dir, exist_ok=True)\n",
    "\n",
    "    # Define o caminho para salvar o arquivo Parquet com nome baseado na data do download\n",
    "    parquet_output_path = os.path.join(parquet_dir, f'ibovespa_{current_date_american}.parquet')\n",
    "\n",
    "    # Salva o DataFrame em formato Parquet\n",
    "    df.to_parquet(parquet_output_path, index=False)\n",
    "\n",
    "    # Lê o arquivo Parquet salvo para verificar\n",
    "    df_loaded = pd.read_parquet(parquet_output_path)\n",
    "    pd.set_option('display.max_rows', None)\n",
    "    pd.set_option('display.max_columns', None)\n",
    "\n",
    "    print(df_loaded)"
   ]
  },
  {
   "cell_type": "code",
   "execution_count": 23,
   "metadata": {},
   "outputs": [],
   "source": [
    "s3_client = boto3.client('s3', region_name='us-east-1')\n",
    "bucket_name = 'fiap2024-mlet-reryson'"
   ]
  },
  {
   "cell_type": "code",
   "execution_count": 24,
   "metadata": {},
   "outputs": [],
   "source": [
    "s3_parquet_path = f'Parquet/raw/{year}/{month}/{day}/ibovespa_{current_date_american}.parquet'"
   ]
  },
  {
   "cell_type": "code",
   "execution_count": 25,
   "metadata": {},
   "outputs": [
    {
     "name": "stdout",
     "output_type": "stream",
     "text": [
      "Arquivo Parquet enviado para o S3: Parquet/raw/2024/07/15/ibovespa_2024-07-15.parquet\n"
     ]
    }
   ],
   "source": [
    "s3_client.upload_file(parquet_output_path, bucket_name, s3_parquet_path)\n",
    "print(f\"Arquivo Parquet enviado para o S3: {s3_parquet_path}\")"
   ]
  },
  {
   "cell_type": "code",
   "execution_count": 26,
   "metadata": {},
   "outputs": [],
   "source": [
    "driver.quit()"
   ]
  }
 ],
 "metadata": {
  "kernelspec": {
   "display_name": ".venv",
   "language": "python",
   "name": "python3"
  },
  "language_info": {
   "codemirror_mode": {
    "name": "ipython",
    "version": 3
   },
   "file_extension": ".py",
   "mimetype": "text/x-python",
   "name": "python",
   "nbconvert_exporter": "python",
   "pygments_lexer": "ipython3",
   "version": "3.12.2"
  }
 },
 "nbformat": 4,
 "nbformat_minor": 2
}
